{
 "cells": [
  {
   "cell_type": "code",
   "execution_count": 12,
   "metadata": {},
   "outputs": [],
   "source": [
    "import numpy as np\n",
    "from sklearn import tree\n",
    "def age_classifier(t):\n",
    "    if t <=22:\n",
    "        return 0 #'college kid'\n",
    "    elif t>22 and t<30:\n",
    "        return 1 #'young adult'\n",
    "    elif t>=30 and t<=37:\n",
    "        return 2 #'middle aged'\n",
    "    elif t>37 and t<50:\n",
    "        return 3 #'p old'\n",
    "    else:\n",
    "        return 4 #'oldie goldie'\n",
    "\n",
    "init = 0\n",
    "data  = []\n",
    "labels = []\n",
    "\n",
    "durations = []\n",
    "\n",
    "for f in open('train.csv'):\n",
    "    if init ==0:\n",
    "        init+=1\n",
    "    else:\n",
    "        durations.append(int(f.split(',')[8]))\n",
    "\n",
    "dur_mean = np.mean(durations)\n",
    "dur_std = np.std(durations)\n",
    "\n",
    "init = 0\n",
    "\n",
    "for f in open('train.csv'):\n",
    "    if init == 0:\n",
    "        init +=  1\n",
    "    else:\n",
    "        datapoint = []\n",
    "        gen_id,ignore1,med_id,al_id,ct,ig2,ig3,ig4,duration,lt,gender,ig5,ai,age,label = f.split(',')\n",
    "        labels.append(label)\n",
    "        if int(duration) >= dur_mean + dur_std:\n",
    "            datapoint.append(2)\n",
    "        elif int(duration) <= dur_mean - dur_std:\n",
    "            datapoint.append(0)\n",
    "        else:\n",
    "            datapoint.append(1)\n",
    "        datapoint.append(int(gen_id))\n",
    "        datapoint.append(int(med_id))\n",
    "        datapoint.append(int(ct))\n",
    "        datapoint.append(int(lt))\n",
    "        datapoint.append(int(al_id))\n",
    "        datapoint.append(int(ig3))\n",
    "        datapoint.append(int(ig4))\n",
    "        datapoint.append(int(gender))\n",
    "        datapoint.append(int(ai))\n",
    "        datapoint.append(age_classifier(int(age)))\n",
    "        if len(datapoint) != 0:\n",
    "            data.append(datapoint)\n",
    "\n"
   ]
  },
  {
   "cell_type": "code",
   "execution_count": 13,
   "metadata": {},
   "outputs": [],
   "source": [
    "mini_data = []\n",
    "for d in data:\n",
    "    mini_data.append(np.asarray(d))"
   ]
  },
  {
   "cell_type": "code",
   "execution_count": 14,
   "metadata": {},
   "outputs": [
    {
     "name": "stdout",
     "output_type": "stream",
     "text": [
      "7558834\n",
      "7558834\n",
      "starting\n",
      "done\n"
     ]
    }
   ],
   "source": [
    "from sklearn.ensemble import RandomForestClassifier\n",
    "from sklearn.naive_bayes import MultinomialNB\n",
    "from sklearn.neural_network import MLPClassifier\n",
    "from sklearn.linear_model import LogisticRegression\n",
    "\n",
    "mini_data = np.asarray(mini_data)\n",
    "mini_labels = np.asarray(labels)\n",
    "print len(mini_data)\n",
    "print len(mini_labels)\n",
    "\n",
    "print \"starting\"\n",
    "\n",
    "clf = RandomForestClassifier(n_estimators = 20)\n",
    "clf = clf.fit(mini_data, mini_labels)\n",
    "\n",
    "print \"done\""
   ]
  },
  {
   "cell_type": "code",
   "execution_count": 15,
   "metadata": {},
   "outputs": [
    {
     "name": "stdout",
     "output_type": "stream",
     "text": [
      "7558834\n"
     ]
    }
   ],
   "source": [
    "pred_labels = clf.predict(mini_data)\n",
    "print len(pred_labels)\n"
   ]
  },
  {
   "cell_type": "code",
   "execution_count": 16,
   "metadata": {},
   "outputs": [
    {
     "name": "stdout",
     "output_type": "stream",
     "text": [
      "5886246\n",
      "0.778724073051\n"
     ]
    }
   ],
   "source": [
    "score = 0\n",
    "\n",
    "for i in range(len(mini_labels)):\n",
    "    if mini_labels[i] == pred_labels[i]:\n",
    "        score += 1\n",
    "print score\n",
    "print float(score)/len(mini_labels)"
   ]
  },
  {
   "cell_type": "code",
   "execution_count": 32,
   "metadata": {},
   "outputs": [],
   "source": [
    "init = 0\n",
    "test_data  = []\n",
    "test_durations = []\n",
    "\n",
    "for f in open('test.csv'):\n",
    "\tif init ==0:\n",
    "\t\tinit+=1\n",
    "\telse:\n",
    "\t\ttest_durations.append(int(f.split(',')[8]))\n",
    "\n",
    "dur_mean = np.mean(test_durations)\n",
    "dur_std = np.std(test_durations)\n",
    "\n",
    "init = 0\n",
    "\n",
    "for f in open('test.csv'):\n",
    "\tif init == 0:\n",
    "\t\tinit +=  1\n",
    "\telse:\n",
    "\t\tdatapoint = []\n",
    "\t\tignore0, gen_id,ignore1,med_id,al_id,ct,ig2,ig3,ig4,duration,lt,gender,ig5,ai,age = f.split(',')\n",
    "\t\tif int(duration) >= dur_mean + dur_std:\n",
    "\t\t\tdatapoint.append(2)\n",
    "\t\telif int(duration) <= dur_mean - dur_std:\n",
    "\t\t\tdatapoint.append(0)\n",
    "\t\telse:\n",
    "\t\t\tdatapoint.append(1)\n",
    "\n",
    "\t\tdatapoint.append(int(gen_id))\n",
    "\t\tdatapoint.append(int(med_id))\n",
    "\t\tdatapoint.append(int(al_id))\n",
    "\t\tdatapoint.append(int(ig3))\n",
    "\t\tdatapoint.append(int(ig4))\n",
    "\t\tdatapoint.append(int(ct))\n",
    "\t\tdatapoint.append(int(lt))\n",
    "\t\tdatapoint.append(int(gender))\n",
    "\t\tdatapoint.append(int(ai))\n",
    "\t\tdatapoint.append(age_classifier(int(age)))\n",
    "\t\tif len(datapoint) != 0:\n",
    "\t\t\ttest_data.append(datapoint)\n",
    "\n"
   ]
  },
  {
   "cell_type": "code",
   "execution_count": 33,
   "metadata": {},
   "outputs": [
    {
     "name": "stdout",
     "output_type": "stream",
     "text": [
      "['1\\n' '1\\n' '1\\n' ..., '1\\n' '1\\n' '1\\n']\n"
     ]
    }
   ],
   "source": [
    "test_pred_labels = clf.predict(test_data)\n",
    "print test_pred_labels"
   ]
  },
  {
   "cell_type": "code",
   "execution_count": 34,
   "metadata": {
    "collapsed": true
   },
   "outputs": [],
   "source": [
    "unseen_data = data[5000000:]\n",
    "unseen_label = labels[5000000:]"
   ]
  },
  {
   "cell_type": "code",
   "execution_count": 35,
   "metadata": {
    "collapsed": true
   },
   "outputs": [],
   "source": [
    "pred_unseen_label = clf.predict(unseen_data)"
   ]
  },
  {
   "cell_type": "code",
   "execution_count": 36,
   "metadata": {},
   "outputs": [],
   "source": [
    "score = 0\n",
    "for i in range(len(pred_unseen_label)):\n",
    "    if pred_unseen_label[i] == unseen_label[i]:\n",
    "        score += 1"
   ]
  },
  {
   "cell_type": "code",
   "execution_count": 37,
   "metadata": {},
   "outputs": [
    {
     "name": "stdout",
     "output_type": "stream",
     "text": [
      "0.22845944229\n"
     ]
    }
   ],
   "source": [
    "print float(score)/float(len(pred_labels))"
   ]
  },
  {
   "cell_type": "code",
   "execution_count": null,
   "metadata": {
    "collapsed": true
   },
   "outputs": [],
   "source": []
  }
 ],
 "metadata": {
  "kernelspec": {
   "display_name": "Python 3",
   "language": "python",
   "name": "python3"
  },
  "language_info": {
   "codemirror_mode": {
    "name": "ipython",
    "version": 3
   },
   "file_extension": ".py",
   "mimetype": "text/x-python",
   "name": "python",
   "nbconvert_exporter": "python",
   "pygments_lexer": "ipython3",
   "version": "3.6.0"
  }
 },
 "nbformat": 4,
 "nbformat_minor": 2
}
